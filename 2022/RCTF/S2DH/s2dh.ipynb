{
 "cells": [
  {
   "cell_type": "code",
   "execution_count": 1,
   "metadata": {
    "vscode": {
     "languageId": "python"
    }
   },
   "outputs": [],
   "source": [
    "a = 43\n",
    "b = 26\n",
    "p = 2^a*3^b - 1\n",
    "assert p in Primes()"
   ]
  },
  {
   "cell_type": "code",
   "execution_count": 2,
   "metadata": {
    "vscode": {
     "languageId": "python"
    }
   },
   "outputs": [],
   "source": [
    "K.<i> = GF(p^2, modulus=x^2+1)\n",
    "E = EllipticCurve(K, [1, 0])"
   ]
  },
  {
   "cell_type": "code",
   "execution_count": 3,
   "metadata": {
    "vscode": {
     "languageId": "python"
    }
   },
   "outputs": [
    {
     "data": {
      "text/plain": [
       "(20816113353953844596827139*i + 16418101434179547435831830 : 9782287231195084940947894*i + 8305288838066432045414923 : 1)"
      ]
     },
     "execution_count": 3,
     "metadata": {},
     "output_type": "execute_result"
    }
   ],
   "source": [
    "Pa = E(0)\n",
    "while (2^(a-1))*Pa == 0:\n",
    "    Pa = 3^b * E.random_point()\n",
    "Pa"
   ]
  },
  {
   "cell_type": "code",
   "execution_count": 4,
   "metadata": {
    "vscode": {
     "languageId": "python"
    }
   },
   "outputs": [
    {
     "data": {
      "text/plain": [
       "(13022786448801065009926908*i + 21396754486749480260181021 : 5027869541156315740937282*i + 8428382255806278677381816 : 1)"
      ]
     },
     "execution_count": 4,
     "metadata": {},
     "output_type": "execute_result"
    }
   ],
   "source": [
    "Qa = Pa\n",
    "while Pa.weil_pairing(Qa, 2^a)^(2^(a-1)) == 1:\n",
    "    Qa = 3^b * E.random_point()\n",
    "Qa"
   ]
  },
  {
   "cell_type": "code",
   "execution_count": 5,
   "metadata": {
    "vscode": {
     "languageId": "python"
    }
   },
   "outputs": [
    {
     "data": {
      "text/plain": [
       "(7582970089792232978539532*i + 6411668474015872447958400 : 15459880436272725660545115*i + 7977012527121440514383975 : 1)"
      ]
     },
     "execution_count": 5,
     "metadata": {},
     "output_type": "execute_result"
    }
   ],
   "source": [
    "Pb = E(0)\n",
    "while (3^(b-1))*Pb == 0:\n",
    "    Pb = 2^a * E.random_point()\n",
    "Pb"
   ]
  },
  {
   "cell_type": "code",
   "execution_count": 6,
   "metadata": {
    "vscode": {
     "languageId": "python"
    }
   },
   "outputs": [
    {
     "data": {
      "text/plain": [
       "(10341548384598782389107676*i + 12525908271709247355078632 : 6555843755802979256565190*i + 11595932163398809254591141 : 1)"
      ]
     },
     "execution_count": 6,
     "metadata": {},
     "output_type": "execute_result"
    }
   ],
   "source": [
    "Qb = Pb\n",
    "while Pb.weil_pairing(Qb, 3^b)^(3^(b-1)) == 1:\n",
    "    Qb = 2^a * E.random_point()\n",
    "Qb"
   ]
  },
  {
   "cell_type": "code",
   "execution_count": 7,
   "metadata": {
    "vscode": {
     "languageId": "python"
    }
   },
   "outputs": [
    {
     "data": {
      "text/plain": [
       "(Elliptic Curve defined by y^2 = x^3 + (4926878008530427712778566*i+8053083788709808436490360)*x + (18771446501040649196825847*i+16306438728950797793375410) over Finite Field in i of size 22358488275953674912530431^2,\n",
       " (2535790352220803985875373*i + 17699033710915047849396921 : 2413558249712558899689063*i + 5157954648088691506046995 : 1),\n",
       " (16568070039544280994803013*i + 21423138055383385576701886 : 5040448698696125071219900*i + 6672798507142407841550817 : 1))"
      ]
     },
     "execution_count": 7,
     "metadata": {},
     "output_type": "execute_result"
    }
   ],
   "source": [
    "Sa = randint(0, 2^a-1)\n",
    "Ta = randint(0, 2^a-1)\n",
    "R = Sa*Pa + Ta * Qa\n",
    "phi = E.isogeny(R)\n",
    "Ea, phiPb, phiQb = phi.codomain(), phi(Pb), phi(Qb)\n",
    "Ea, phiPb, phiQb"
   ]
  },
  {
   "cell_type": "code",
   "execution_count": 8,
   "metadata": {
    "vscode": {
     "languageId": "python"
    }
   },
   "outputs": [
    {
     "data": {
      "text/plain": [
       "(Elliptic Curve defined by y^2 = x^3 + (18866222948911535725014127*i+21372353382532165741892023)*x + (14780329017962693588095579*i+4731720677310255642021851) over Finite Field in i of size 22358488275953674912530431^2,\n",
       " (3413055427164626562463192*i + 5176875496413372729075617 : 17919859745180152815219510*i + 18120119720358642060676362 : 1),\n",
       " (18433160961475396600407402*i + 22312166252239187097449810 : 10433258275941991434154560*i + 9029292514862239326241711 : 1))"
      ]
     },
     "execution_count": 8,
     "metadata": {},
     "output_type": "execute_result"
    }
   ],
   "source": [
    "Sb = randint(0, 3^b-1)\n",
    "Tb = randint(0, 3^b-1)\n",
    "R = Sb * Pb + Tb * Qb\n",
    "psi = E.isogeny(R)\n",
    "Eb, psiPa, psiQa = psi.codomain(), psi(Pa), psi(Qa)\n",
    "Eb, psiPa, psiQa"
   ]
  },
  {
   "cell_type": "code",
   "execution_count": 9,
   "metadata": {
    "vscode": {
     "languageId": "python"
    }
   },
   "outputs": [],
   "source": [
    "J = Eb.isogeny(Sa*psiPa + Ta*psiQa, algorithm='factored').codomain().j_invariant()"
   ]
  },
  {
   "cell_type": "code",
   "execution_count": 10,
   "metadata": {
    "vscode": {
     "languageId": "python"
    }
   },
   "outputs": [
    {
     "data": {
      "text/plain": [
       "243706092945144760206191226817331300960683091878992"
      ]
     },
     "execution_count": 10,
     "metadata": {},
     "output_type": "execute_result"
    }
   ],
   "source": [
    "flag = open(\"flag.txt\",\"r\").read()\n",
    "assert flag[:5] == \"RCTF{\" and flag[-1] == \"}\"\n",
    "flag = flag[5:-1]\n",
    "int.from_bytes(flag.encode()) ^^ ((int(J[1]) << 84) + int(J[0]))"
   ]
  }
 ],
 "metadata": {
  "kernelspec": {
   "display_name": "SageMath 9.8.beta4",
   "language": "sage",
   "name": "sagemath"
  },
  "language_info": {
   "codemirror_mode": {
    "name": "ipython",
    "version": 3
   },
   "file_extension": ".py",
   "mimetype": "text/x-python",
   "name": "sage",
   "nbconvert_exporter": "python",
   "pygments_lexer": "ipython3",
   "version": "3.11.0"
  },
  "orig_nbformat": 4,
  "vscode": {
   "interpreter": {
    "hash": "dee1b5677c981a1ce435828d3d7dfe0df54eefc3f06d47ca0243c1fcd4ac283f"
   }
  }
 },
 "nbformat": 4,
 "nbformat_minor": 2
}
